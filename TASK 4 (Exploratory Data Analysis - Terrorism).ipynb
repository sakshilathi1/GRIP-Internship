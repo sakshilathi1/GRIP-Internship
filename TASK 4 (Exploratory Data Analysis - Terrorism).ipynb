{
 "cells": [
  {
   "cell_type": "markdown",
   "id": "6a251dd4",
   "metadata": {},
   "source": [
    "## The Sparks Foundation GRIP December 2022 Data Science & Business Analytics"
   ]
  },
  {
   "cell_type": "markdown",
   "id": "f3c81c3a",
   "metadata": {},
   "source": [
    "#GRIPDECEMBER22\n",
    "\n",
    "Name : Sakshi Lathi\n",
    "\n",
    "task 3: Perform 'Exploratory Data Analysis' on data set ' Global Terrorism'                                                     \n",
    "As a security/defense analyst, try to find out the hot zone of terrorism. What all security issues and insights you can derive by EDA?                 \n",
    "Dataset : https://bit.ly/2TK5Xn5"
   ]
  },
  {
   "cell_type": "code",
   "execution_count": 3,
   "id": "95961e4b",
   "metadata": {},
   "outputs": [],
   "source": [
    "import pandas as pd\n",
    "import numpy as np\n",
    "import matplotlib.pyplot as plt\n",
    "import seaborn as sns\n",
    "import warnings\n",
    "warnings.filterwarnings('ignore')"
   ]
  },
  {
   "cell_type": "code",
   "execution_count": 4,
   "id": "28c42e83",
   "metadata": {},
   "outputs": [
    {
     "data": {
      "text/html": [
       "<div>\n",
       "<style scoped>\n",
       "    .dataframe tbody tr th:only-of-type {\n",
       "        vertical-align: middle;\n",
       "    }\n",
       "\n",
       "    .dataframe tbody tr th {\n",
       "        vertical-align: top;\n",
       "    }\n",
       "\n",
       "    .dataframe thead th {\n",
       "        text-align: right;\n",
       "    }\n",
       "</style>\n",
       "<table border=\"1\" class=\"dataframe\">\n",
       "  <thead>\n",
       "    <tr style=\"text-align: right;\">\n",
       "      <th></th>\n",
       "      <th>eventid</th>\n",
       "      <th>iyear</th>\n",
       "      <th>imonth</th>\n",
       "      <th>iday</th>\n",
       "      <th>approxdate</th>\n",
       "      <th>extended</th>\n",
       "      <th>resolution</th>\n",
       "      <th>country</th>\n",
       "      <th>country_txt</th>\n",
       "      <th>region</th>\n",
       "      <th>...</th>\n",
       "      <th>addnotes</th>\n",
       "      <th>scite1</th>\n",
       "      <th>scite2</th>\n",
       "      <th>scite3</th>\n",
       "      <th>dbsource</th>\n",
       "      <th>INT_LOG</th>\n",
       "      <th>INT_IDEO</th>\n",
       "      <th>INT_MISC</th>\n",
       "      <th>INT_ANY</th>\n",
       "      <th>related</th>\n",
       "    </tr>\n",
       "  </thead>\n",
       "  <tbody>\n",
       "    <tr>\n",
       "      <th>0</th>\n",
       "      <td>197000000001</td>\n",
       "      <td>1970</td>\n",
       "      <td>7</td>\n",
       "      <td>2</td>\n",
       "      <td>NaN</td>\n",
       "      <td>0</td>\n",
       "      <td>NaN</td>\n",
       "      <td>58</td>\n",
       "      <td>Dominican Republic</td>\n",
       "      <td>2</td>\n",
       "      <td>...</td>\n",
       "      <td>NaN</td>\n",
       "      <td>NaN</td>\n",
       "      <td>NaN</td>\n",
       "      <td>NaN</td>\n",
       "      <td>PGIS</td>\n",
       "      <td>0</td>\n",
       "      <td>0</td>\n",
       "      <td>0</td>\n",
       "      <td>0</td>\n",
       "      <td>NaN</td>\n",
       "    </tr>\n",
       "    <tr>\n",
       "      <th>1</th>\n",
       "      <td>197000000002</td>\n",
       "      <td>1970</td>\n",
       "      <td>0</td>\n",
       "      <td>0</td>\n",
       "      <td>NaN</td>\n",
       "      <td>0</td>\n",
       "      <td>NaN</td>\n",
       "      <td>130</td>\n",
       "      <td>Mexico</td>\n",
       "      <td>1</td>\n",
       "      <td>...</td>\n",
       "      <td>NaN</td>\n",
       "      <td>NaN</td>\n",
       "      <td>NaN</td>\n",
       "      <td>NaN</td>\n",
       "      <td>PGIS</td>\n",
       "      <td>0</td>\n",
       "      <td>1</td>\n",
       "      <td>1</td>\n",
       "      <td>1</td>\n",
       "      <td>NaN</td>\n",
       "    </tr>\n",
       "    <tr>\n",
       "      <th>2</th>\n",
       "      <td>197001000001</td>\n",
       "      <td>1970</td>\n",
       "      <td>1</td>\n",
       "      <td>0</td>\n",
       "      <td>NaN</td>\n",
       "      <td>0</td>\n",
       "      <td>NaN</td>\n",
       "      <td>160</td>\n",
       "      <td>Philippines</td>\n",
       "      <td>5</td>\n",
       "      <td>...</td>\n",
       "      <td>NaN</td>\n",
       "      <td>NaN</td>\n",
       "      <td>NaN</td>\n",
       "      <td>NaN</td>\n",
       "      <td>PGIS</td>\n",
       "      <td>-9</td>\n",
       "      <td>-9</td>\n",
       "      <td>1</td>\n",
       "      <td>1</td>\n",
       "      <td>NaN</td>\n",
       "    </tr>\n",
       "    <tr>\n",
       "      <th>3</th>\n",
       "      <td>197001000002</td>\n",
       "      <td>1970</td>\n",
       "      <td>1</td>\n",
       "      <td>0</td>\n",
       "      <td>NaN</td>\n",
       "      <td>0</td>\n",
       "      <td>NaN</td>\n",
       "      <td>78</td>\n",
       "      <td>Greece</td>\n",
       "      <td>8</td>\n",
       "      <td>...</td>\n",
       "      <td>NaN</td>\n",
       "      <td>NaN</td>\n",
       "      <td>NaN</td>\n",
       "      <td>NaN</td>\n",
       "      <td>PGIS</td>\n",
       "      <td>-9</td>\n",
       "      <td>-9</td>\n",
       "      <td>1</td>\n",
       "      <td>1</td>\n",
       "      <td>NaN</td>\n",
       "    </tr>\n",
       "    <tr>\n",
       "      <th>4</th>\n",
       "      <td>197001000003</td>\n",
       "      <td>1970</td>\n",
       "      <td>1</td>\n",
       "      <td>0</td>\n",
       "      <td>NaN</td>\n",
       "      <td>0</td>\n",
       "      <td>NaN</td>\n",
       "      <td>101</td>\n",
       "      <td>Japan</td>\n",
       "      <td>4</td>\n",
       "      <td>...</td>\n",
       "      <td>NaN</td>\n",
       "      <td>NaN</td>\n",
       "      <td>NaN</td>\n",
       "      <td>NaN</td>\n",
       "      <td>PGIS</td>\n",
       "      <td>-9</td>\n",
       "      <td>-9</td>\n",
       "      <td>1</td>\n",
       "      <td>1</td>\n",
       "      <td>NaN</td>\n",
       "    </tr>\n",
       "  </tbody>\n",
       "</table>\n",
       "<p>5 rows × 135 columns</p>\n",
       "</div>"
      ],
      "text/plain": [
       "        eventid  iyear  imonth  iday approxdate  extended resolution  country  \\\n",
       "0  197000000001   1970       7     2        NaN         0        NaN       58   \n",
       "1  197000000002   1970       0     0        NaN         0        NaN      130   \n",
       "2  197001000001   1970       1     0        NaN         0        NaN      160   \n",
       "3  197001000002   1970       1     0        NaN         0        NaN       78   \n",
       "4  197001000003   1970       1     0        NaN         0        NaN      101   \n",
       "\n",
       "          country_txt  region  ... addnotes scite1 scite2  scite3  dbsource  \\\n",
       "0  Dominican Republic       2  ...      NaN    NaN    NaN     NaN      PGIS   \n",
       "1              Mexico       1  ...      NaN    NaN    NaN     NaN      PGIS   \n",
       "2         Philippines       5  ...      NaN    NaN    NaN     NaN      PGIS   \n",
       "3              Greece       8  ...      NaN    NaN    NaN     NaN      PGIS   \n",
       "4               Japan       4  ...      NaN    NaN    NaN     NaN      PGIS   \n",
       "\n",
       "   INT_LOG  INT_IDEO INT_MISC INT_ANY  related  \n",
       "0        0         0        0       0      NaN  \n",
       "1        0         1        1       1      NaN  \n",
       "2       -9        -9        1       1      NaN  \n",
       "3       -9        -9        1       1      NaN  \n",
       "4       -9        -9        1       1      NaN  \n",
       "\n",
       "[5 rows x 135 columns]"
      ]
     },
     "execution_count": 4,
     "metadata": {},
     "output_type": "execute_result"
    }
   ],
   "source": [
    "dataset = pd.read_csv('globalterrorismdb_0718dist.csv',encoding='latin1')\n",
    "dataset.head()"
   ]
  },
  {
   "cell_type": "markdown",
   "id": "5ec4ec23",
   "metadata": {},
   "source": [
    "### EDA (Exploratory Data Analysis)"
   ]
  },
  {
   "cell_type": "code",
   "execution_count": 5,
   "id": "b4606f95",
   "metadata": {},
   "outputs": [
    {
     "data": {
      "text/plain": [
       "(181691, 135)"
      ]
     },
     "execution_count": 5,
     "metadata": {},
     "output_type": "execute_result"
    }
   ],
   "source": [
    "dataset.shape"
   ]
  },
  {
   "cell_type": "markdown",
   "id": "3d0c34e6",
   "metadata": {},
   "source": [
    "There are 181691 rows and 135 columns present in dataset"
   ]
  },
  {
   "cell_type": "code",
   "execution_count": 7,
   "id": "949a44b2",
   "metadata": {},
   "outputs": [
    {
     "name": "stdout",
     "output_type": "stream",
     "text": [
      "<class 'pandas.core.frame.DataFrame'>\n",
      "RangeIndex: 181691 entries, 0 to 181690\n",
      "Columns: 135 entries, eventid to related\n",
      "dtypes: float64(55), int64(22), object(58)\n",
      "memory usage: 187.1+ MB\n"
     ]
    }
   ],
   "source": [
    "dataset.info()"
   ]
  },
  {
   "cell_type": "code",
   "execution_count": 8,
   "id": "27f8fda3",
   "metadata": {},
   "outputs": [
    {
     "name": "stdout",
     "output_type": "stream",
     "text": [
      "Column Names in Terrorism DataSet:\n",
      "**********************************\n",
      "eventid\n",
      "iyear\n",
      "imonth\n",
      "iday\n",
      "approxdate\n",
      "extended\n",
      "resolution\n",
      "country\n",
      "country_txt\n",
      "region\n",
      "region_txt\n",
      "provstate\n",
      "city\n",
      "latitude\n",
      "longitude\n",
      "specificity\n",
      "vicinity\n",
      "location\n",
      "summary\n",
      "crit1\n",
      "crit2\n",
      "crit3\n",
      "doubtterr\n",
      "alternative\n",
      "alternative_txt\n",
      "multiple\n",
      "success\n",
      "suicide\n",
      "attacktype1\n",
      "attacktype1_txt\n",
      "attacktype2\n",
      "attacktype2_txt\n",
      "attacktype3\n",
      "attacktype3_txt\n",
      "targtype1\n",
      "targtype1_txt\n",
      "targsubtype1\n",
      "targsubtype1_txt\n",
      "corp1\n",
      "target1\n",
      "natlty1\n",
      "natlty1_txt\n",
      "targtype2\n",
      "targtype2_txt\n",
      "targsubtype2\n",
      "targsubtype2_txt\n",
      "corp2\n",
      "target2\n",
      "natlty2\n",
      "natlty2_txt\n",
      "targtype3\n",
      "targtype3_txt\n",
      "targsubtype3\n",
      "targsubtype3_txt\n",
      "corp3\n",
      "target3\n",
      "natlty3\n",
      "natlty3_txt\n",
      "gname\n",
      "gsubname\n",
      "gname2\n",
      "gsubname2\n",
      "gname3\n",
      "gsubname3\n",
      "motive\n",
      "guncertain1\n",
      "guncertain2\n",
      "guncertain3\n",
      "individual\n",
      "nperps\n",
      "nperpcap\n",
      "claimed\n",
      "claimmode\n",
      "claimmode_txt\n",
      "claim2\n",
      "claimmode2\n",
      "claimmode2_txt\n",
      "claim3\n",
      "claimmode3\n",
      "claimmode3_txt\n",
      "compclaim\n",
      "weaptype1\n",
      "weaptype1_txt\n",
      "weapsubtype1\n",
      "weapsubtype1_txt\n",
      "weaptype2\n",
      "weaptype2_txt\n",
      "weapsubtype2\n",
      "weapsubtype2_txt\n",
      "weaptype3\n",
      "weaptype3_txt\n",
      "weapsubtype3\n",
      "weapsubtype3_txt\n",
      "weaptype4\n",
      "weaptype4_txt\n",
      "weapsubtype4\n",
      "weapsubtype4_txt\n",
      "weapdetail\n",
      "nkill\n",
      "nkillus\n",
      "nkillter\n",
      "nwound\n",
      "nwoundus\n",
      "nwoundte\n",
      "property\n",
      "propextent\n",
      "propextent_txt\n",
      "propvalue\n",
      "propcomment\n",
      "ishostkid\n",
      "nhostkid\n",
      "nhostkidus\n",
      "nhours\n",
      "ndays\n",
      "divert\n",
      "kidhijcountry\n",
      "ransom\n",
      "ransomamt\n",
      "ransomamtus\n",
      "ransompaid\n",
      "ransompaidus\n",
      "ransomnote\n",
      "hostkidoutcome\n",
      "hostkidoutcome_txt\n",
      "nreleased\n",
      "addnotes\n",
      "scite1\n",
      "scite2\n",
      "scite3\n",
      "dbsource\n",
      "INT_LOG\n",
      "INT_IDEO\n",
      "INT_MISC\n",
      "INT_ANY\n",
      "related\n"
     ]
    }
   ],
   "source": [
    "#Creating list of columns name in dataset\n",
    "print(\"Column Names in Terrorism DataSet:\\n\"+34*\"*\")\n",
    "for i in dataset.columns.tolist():\n",
    "    print(i)"
   ]
  },
  {
   "cell_type": "code",
   "execution_count": 10,
   "id": "7f21eb44",
   "metadata": {},
   "outputs": [
    {
     "data": {
      "text/html": [
       "<div>\n",
       "<style scoped>\n",
       "    .dataframe tbody tr th:only-of-type {\n",
       "        vertical-align: middle;\n",
       "    }\n",
       "\n",
       "    .dataframe tbody tr th {\n",
       "        vertical-align: top;\n",
       "    }\n",
       "\n",
       "    .dataframe thead th {\n",
       "        text-align: right;\n",
       "    }\n",
       "</style>\n",
       "<table border=\"1\" class=\"dataframe\">\n",
       "  <thead>\n",
       "    <tr style=\"text-align: right;\">\n",
       "      <th></th>\n",
       "      <th>Year</th>\n",
       "      <th>Month</th>\n",
       "      <th>Day</th>\n",
       "      <th>Country</th>\n",
       "      <th>Region</th>\n",
       "      <th>State</th>\n",
       "      <th>Attacktype</th>\n",
       "      <th>target_type</th>\n",
       "      <th>target</th>\n",
       "      <th>Weapon_type</th>\n",
       "      <th>No_of_Killed</th>\n",
       "      <th>No_of_Wounded</th>\n",
       "      <th>Group</th>\n",
       "      <th>summary</th>\n",
       "    </tr>\n",
       "  </thead>\n",
       "  <tbody>\n",
       "    <tr>\n",
       "      <th>9542</th>\n",
       "      <td>1979</td>\n",
       "      <td>10</td>\n",
       "      <td>24</td>\n",
       "      <td>Nicaragua</td>\n",
       "      <td>Central America &amp; Caribbean</td>\n",
       "      <td>Managua</td>\n",
       "      <td>Armed Assault</td>\n",
       "      <td>Military</td>\n",
       "      <td>Sandinista army barracks</td>\n",
       "      <td>Firearms</td>\n",
       "      <td>NaN</td>\n",
       "      <td>NaN</td>\n",
       "      <td>Unknown</td>\n",
       "      <td>NaN</td>\n",
       "    </tr>\n",
       "    <tr>\n",
       "      <th>159642</th>\n",
       "      <td>2016</td>\n",
       "      <td>3</td>\n",
       "      <td>3</td>\n",
       "      <td>Thailand</td>\n",
       "      <td>Southeast Asia</td>\n",
       "      <td>Yala</td>\n",
       "      <td>Armed Assault</td>\n",
       "      <td>Private Citizens &amp; Property</td>\n",
       "      <td>Rubber Tapper: Chatchai Sae Thong</td>\n",
       "      <td>Firearms</td>\n",
       "      <td>1.0</td>\n",
       "      <td>0.0</td>\n",
       "      <td>Unknown</td>\n",
       "      <td>03/03/2016: Assailants opened fire on Chatchai...</td>\n",
       "    </tr>\n",
       "    <tr>\n",
       "      <th>180688</th>\n",
       "      <td>2017</td>\n",
       "      <td>11</td>\n",
       "      <td>22</td>\n",
       "      <td>South Sudan</td>\n",
       "      <td>Sub-Saharan Africa</td>\n",
       "      <td>Southern Liech</td>\n",
       "      <td>Armed Assault</td>\n",
       "      <td>Military</td>\n",
       "      <td>Soldiers</td>\n",
       "      <td>Firearms</td>\n",
       "      <td>11.0</td>\n",
       "      <td>4.0</td>\n",
       "      <td>Sudan People's Liberation Movement in Oppositi...</td>\n",
       "      <td>11/22/2017: Assailants attacked military posit...</td>\n",
       "    </tr>\n",
       "    <tr>\n",
       "      <th>41178</th>\n",
       "      <td>1990</td>\n",
       "      <td>1</td>\n",
       "      <td>11</td>\n",
       "      <td>Peru</td>\n",
       "      <td>South America</td>\n",
       "      <td>Junin</td>\n",
       "      <td>Bombing/Explosion</td>\n",
       "      <td>Utilities</td>\n",
       "      <td>High tension line tower</td>\n",
       "      <td>Explosives</td>\n",
       "      <td>0.0</td>\n",
       "      <td>0.0</td>\n",
       "      <td>Shining Path (SL)</td>\n",
       "      <td>NaN</td>\n",
       "    </tr>\n",
       "    <tr>\n",
       "      <th>161380</th>\n",
       "      <td>2016</td>\n",
       "      <td>4</td>\n",
       "      <td>19</td>\n",
       "      <td>Turkey</td>\n",
       "      <td>Middle East &amp; North Africa</td>\n",
       "      <td>Sirnak</td>\n",
       "      <td>Bombing/Explosion</td>\n",
       "      <td>Military</td>\n",
       "      <td>Soldiers</td>\n",
       "      <td>Explosives</td>\n",
       "      <td>2.0</td>\n",
       "      <td>6.0</td>\n",
       "      <td>Kurdistan Workers' Party (PKK)</td>\n",
       "      <td>04/19/2016: An explosive device detonated targ...</td>\n",
       "    </tr>\n",
       "    <tr>\n",
       "      <th>172236</th>\n",
       "      <td>2017</td>\n",
       "      <td>2</td>\n",
       "      <td>18</td>\n",
       "      <td>Afghanistan</td>\n",
       "      <td>South Asia</td>\n",
       "      <td>Nangarhar</td>\n",
       "      <td>Bombing/Explosion</td>\n",
       "      <td>Private Citizens &amp; Property</td>\n",
       "      <td>Civilians</td>\n",
       "      <td>Explosives</td>\n",
       "      <td>0.0</td>\n",
       "      <td>11.0</td>\n",
       "      <td>Khorasan Chapter of the Islamic State</td>\n",
       "      <td>02/18/2017: Assailants detonated an explosive ...</td>\n",
       "    </tr>\n",
       "  </tbody>\n",
       "</table>\n",
       "</div>"
      ],
      "text/plain": [
       "        Year  Month  Day      Country                       Region  \\\n",
       "9542    1979     10   24    Nicaragua  Central America & Caribbean   \n",
       "159642  2016      3    3     Thailand               Southeast Asia   \n",
       "180688  2017     11   22  South Sudan           Sub-Saharan Africa   \n",
       "41178   1990      1   11         Peru                South America   \n",
       "161380  2016      4   19       Turkey   Middle East & North Africa   \n",
       "172236  2017      2   18  Afghanistan                   South Asia   \n",
       "\n",
       "                 State         Attacktype                  target_type  \\\n",
       "9542           Managua      Armed Assault                     Military   \n",
       "159642            Yala      Armed Assault  Private Citizens & Property   \n",
       "180688  Southern Liech      Armed Assault                     Military   \n",
       "41178            Junin  Bombing/Explosion                    Utilities   \n",
       "161380          Sirnak  Bombing/Explosion                     Military   \n",
       "172236       Nangarhar  Bombing/Explosion  Private Citizens & Property   \n",
       "\n",
       "                                   target Weapon_type  No_of_Killed  \\\n",
       "9542             Sandinista army barracks    Firearms           NaN   \n",
       "159642  Rubber Tapper: Chatchai Sae Thong    Firearms           1.0   \n",
       "180688                           Soldiers    Firearms          11.0   \n",
       "41178             High tension line tower  Explosives           0.0   \n",
       "161380                           Soldiers  Explosives           2.0   \n",
       "172236                          Civilians  Explosives           0.0   \n",
       "\n",
       "        No_of_Wounded                                              Group  \\\n",
       "9542              NaN                                            Unknown   \n",
       "159642            0.0                                            Unknown   \n",
       "180688            4.0  Sudan People's Liberation Movement in Oppositi...   \n",
       "41178             0.0                                  Shining Path (SL)   \n",
       "161380            6.0                     Kurdistan Workers' Party (PKK)   \n",
       "172236           11.0              Khorasan Chapter of the Islamic State   \n",
       "\n",
       "                                                  summary  \n",
       "9542                                                  NaN  \n",
       "159642  03/03/2016: Assailants opened fire on Chatchai...  \n",
       "180688  11/22/2017: Assailants attacked military posit...  \n",
       "41178                                                 NaN  \n",
       "161380  04/19/2016: An explosive device detonated targ...  \n",
       "172236  02/18/2017: Assailants detonated an explosive ...  "
      ]
     },
     "execution_count": 10,
     "metadata": {},
     "output_type": "execute_result"
    }
   ],
   "source": [
    "dataset_final = dataset[['iyear','imonth','iday','country_txt','region_txt','provstate','attacktype1_txt',\n",
    "                                  'targtype1_txt','target1','weaptype1_txt','nkill','nwound','gname','summary']]\n",
    "dataset_final.rename(columns={\"iyear\":\"Year\",\n",
    "                                   \"imonth\":\"Month\",\n",
    "                                   \"iday\":\"Day\",\n",
    "                                   \"country_txt\":\"Country\",\n",
    "                                   \"region_txt\":\"Region\",\n",
    "                                   \"provstate\":\"State\",\n",
    "                                   \"attacktype1_txt\":\"Attacktype\",\n",
    "                                   \"targtype1_txt\":\"target_type\",\n",
    "                                   \"target1\":\"target\",\n",
    "                                   \"weaptype1_txt\":\"Weapon_type\",\n",
    "                                   \"nkill\":\"No_of_Killed\",\n",
    "                                   \"nwound\":\"No_of_Wounded\",\n",
    "                                   \"gname\":\"Group\"},inplace=True)\n",
    "dataset_final.sample(6)"
   ]
  },
  {
   "cell_type": "code",
   "execution_count": 11,
   "id": "bc7cb509",
   "metadata": {},
   "outputs": [
    {
     "name": "stdout",
     "output_type": "stream",
     "text": [
      "<class 'pandas.core.frame.DataFrame'>\n",
      "RangeIndex: 181691 entries, 0 to 181690\n",
      "Data columns (total 14 columns):\n",
      " #   Column         Non-Null Count   Dtype  \n",
      "---  ------         --------------   -----  \n",
      " 0   Year           181691 non-null  int64  \n",
      " 1   Month          181691 non-null  int64  \n",
      " 2   Day            181691 non-null  int64  \n",
      " 3   Country        181691 non-null  object \n",
      " 4   Region         181691 non-null  object \n",
      " 5   State          181270 non-null  object \n",
      " 6   Attacktype     181691 non-null  object \n",
      " 7   target_type    181691 non-null  object \n",
      " 8   target         181055 non-null  object \n",
      " 9   Weapon_type    181691 non-null  object \n",
      " 10  No_of_Killed   171378 non-null  float64\n",
      " 11  No_of_Wounded  165380 non-null  float64\n",
      " 12  Group          181691 non-null  object \n",
      " 13  summary        115562 non-null  object \n",
      "dtypes: float64(2), int64(3), object(9)\n",
      "memory usage: 19.4+ MB\n"
     ]
    }
   ],
   "source": [
    "dataset_final.info()"
   ]
  },
  {
   "cell_type": "code",
   "execution_count": 12,
   "id": "3c1caa41",
   "metadata": {},
   "outputs": [
    {
     "data": {
      "text/html": [
       "<div>\n",
       "<style scoped>\n",
       "    .dataframe tbody tr th:only-of-type {\n",
       "        vertical-align: middle;\n",
       "    }\n",
       "\n",
       "    .dataframe tbody tr th {\n",
       "        vertical-align: top;\n",
       "    }\n",
       "\n",
       "    .dataframe thead th {\n",
       "        text-align: right;\n",
       "    }\n",
       "</style>\n",
       "<table border=\"1\" class=\"dataframe\">\n",
       "  <thead>\n",
       "    <tr style=\"text-align: right;\">\n",
       "      <th></th>\n",
       "      <th>Year</th>\n",
       "      <th>Month</th>\n",
       "      <th>Day</th>\n",
       "      <th>No_of_Killed</th>\n",
       "      <th>No_of_Wounded</th>\n",
       "    </tr>\n",
       "  </thead>\n",
       "  <tbody>\n",
       "    <tr>\n",
       "      <th>count</th>\n",
       "      <td>181691.000000</td>\n",
       "      <td>181691.000000</td>\n",
       "      <td>181691.000000</td>\n",
       "      <td>171378.000000</td>\n",
       "      <td>165380.000000</td>\n",
       "    </tr>\n",
       "    <tr>\n",
       "      <th>mean</th>\n",
       "      <td>2002.638997</td>\n",
       "      <td>6.467277</td>\n",
       "      <td>15.505644</td>\n",
       "      <td>2.403272</td>\n",
       "      <td>3.167668</td>\n",
       "    </tr>\n",
       "    <tr>\n",
       "      <th>std</th>\n",
       "      <td>13.259430</td>\n",
       "      <td>3.388303</td>\n",
       "      <td>8.814045</td>\n",
       "      <td>11.545741</td>\n",
       "      <td>35.949392</td>\n",
       "    </tr>\n",
       "    <tr>\n",
       "      <th>min</th>\n",
       "      <td>1970.000000</td>\n",
       "      <td>0.000000</td>\n",
       "      <td>0.000000</td>\n",
       "      <td>0.000000</td>\n",
       "      <td>0.000000</td>\n",
       "    </tr>\n",
       "    <tr>\n",
       "      <th>25%</th>\n",
       "      <td>1991.000000</td>\n",
       "      <td>4.000000</td>\n",
       "      <td>8.000000</td>\n",
       "      <td>0.000000</td>\n",
       "      <td>0.000000</td>\n",
       "    </tr>\n",
       "    <tr>\n",
       "      <th>50%</th>\n",
       "      <td>2009.000000</td>\n",
       "      <td>6.000000</td>\n",
       "      <td>15.000000</td>\n",
       "      <td>0.000000</td>\n",
       "      <td>0.000000</td>\n",
       "    </tr>\n",
       "    <tr>\n",
       "      <th>75%</th>\n",
       "      <td>2014.000000</td>\n",
       "      <td>9.000000</td>\n",
       "      <td>23.000000</td>\n",
       "      <td>2.000000</td>\n",
       "      <td>2.000000</td>\n",
       "    </tr>\n",
       "    <tr>\n",
       "      <th>max</th>\n",
       "      <td>2017.000000</td>\n",
       "      <td>12.000000</td>\n",
       "      <td>31.000000</td>\n",
       "      <td>1570.000000</td>\n",
       "      <td>8191.000000</td>\n",
       "    </tr>\n",
       "  </tbody>\n",
       "</table>\n",
       "</div>"
      ],
      "text/plain": [
       "                Year          Month            Day   No_of_Killed  \\\n",
       "count  181691.000000  181691.000000  181691.000000  171378.000000   \n",
       "mean     2002.638997       6.467277      15.505644       2.403272   \n",
       "std        13.259430       3.388303       8.814045      11.545741   \n",
       "min      1970.000000       0.000000       0.000000       0.000000   \n",
       "25%      1991.000000       4.000000       8.000000       0.000000   \n",
       "50%      2009.000000       6.000000      15.000000       0.000000   \n",
       "75%      2014.000000       9.000000      23.000000       2.000000   \n",
       "max      2017.000000      12.000000      31.000000    1570.000000   \n",
       "\n",
       "       No_of_Wounded  \n",
       "count  165380.000000  \n",
       "mean        3.167668  \n",
       "std        35.949392  \n",
       "min         0.000000  \n",
       "25%         0.000000  \n",
       "50%         0.000000  \n",
       "75%         2.000000  \n",
       "max      8191.000000  "
      ]
     },
     "execution_count": 12,
     "metadata": {},
     "output_type": "execute_result"
    }
   ],
   "source": [
    "dataset_final.describe()"
   ]
  },
  {
   "cell_type": "markdown",
   "id": "d117580b",
   "metadata": {},
   "source": [
    "### Data Cleaning"
   ]
  },
  {
   "cell_type": "code",
   "execution_count": 13,
   "id": "17729699",
   "metadata": {},
   "outputs": [
    {
     "data": {
      "text/plain": [
       "Year                 0\n",
       "Month                0\n",
       "Day                  0\n",
       "Country              0\n",
       "Region               0\n",
       "State              421\n",
       "Attacktype           0\n",
       "target_type          0\n",
       "target             636\n",
       "Weapon_type          0\n",
       "No_of_Killed     10313\n",
       "No_of_Wounded    16311\n",
       "Group                0\n",
       "summary          66129\n",
       "dtype: int64"
      ]
     },
     "execution_count": 13,
     "metadata": {},
     "output_type": "execute_result"
    }
   ],
   "source": [
    "dataset_final.isnull().sum()"
   ]
  },
  {
   "cell_type": "code",
   "execution_count": 14,
   "id": "a66e9583",
   "metadata": {},
   "outputs": [
    {
     "data": {
      "text/plain": [
       "0    1.0\n",
       "1    0.0\n",
       "2    1.0\n",
       "3    NaN\n",
       "4    NaN\n",
       "Name: No_of_Killed, dtype: float64"
      ]
     },
     "execution_count": 14,
     "metadata": {},
     "output_type": "execute_result"
    }
   ],
   "source": [
    "# Missing values fill -\n",
    "# 1. No of Killed =\n",
    "dataset_final['No_of_Killed'].head()"
   ]
  },
  {
   "cell_type": "code",
   "execution_count": 15,
   "id": "ddef14ef",
   "metadata": {},
   "outputs": [
    {
     "data": {
      "text/plain": [
       "0    1.0\n",
       "1    0.0\n",
       "2    1.0\n",
       "3    0.0\n",
       "4    0.0\n",
       "Name: No_of_Killed, dtype: float64"
      ]
     },
     "execution_count": 15,
     "metadata": {},
     "output_type": "execute_result"
    }
   ],
   "source": [
    "dataset_final['No_of_Killed'] = dataset_final['No_of_Killed'].fillna(0)\n",
    "dataset_final['No_of_Killed'].head()"
   ]
  },
  {
   "cell_type": "code",
   "execution_count": 16,
   "id": "c728d599",
   "metadata": {},
   "outputs": [
    {
     "data": {
      "text/plain": [
       "Year                 0\n",
       "Month                0\n",
       "Day                  0\n",
       "Country              0\n",
       "Region               0\n",
       "State              421\n",
       "Attacktype           0\n",
       "target_type          0\n",
       "target             636\n",
       "Weapon_type          0\n",
       "No_of_Killed         0\n",
       "No_of_Wounded    16311\n",
       "Group                0\n",
       "summary          66129\n",
       "dtype: int64"
      ]
     },
     "execution_count": 16,
     "metadata": {},
     "output_type": "execute_result"
    }
   ],
   "source": [
    "dataset_final.isnull().sum()"
   ]
  },
  {
   "cell_type": "code",
   "execution_count": 17,
   "id": "5df6c6aa",
   "metadata": {},
   "outputs": [
    {
     "data": {
      "text/plain": [
       "Year                 0\n",
       "Month                0\n",
       "Day                  0\n",
       "Country              0\n",
       "Region               0\n",
       "State              421\n",
       "Attacktype           0\n",
       "target_type          0\n",
       "target             636\n",
       "Weapon_type          0\n",
       "No_of_Killed         0\n",
       "No_of_Wounded        0\n",
       "Group                0\n",
       "summary          66129\n",
       "dtype: int64"
      ]
     },
     "execution_count": 17,
     "metadata": {},
     "output_type": "execute_result"
    }
   ],
   "source": [
    "#2. No_of_Wounded \n",
    "dataset_final['No_of_Wounded'] = dataset_final['No_of_Wounded'].fillna(0)\n",
    "dataset_final.isnull().sum()"
   ]
  },
  {
   "cell_type": "code",
   "execution_count": 18,
   "id": "2578c9cf",
   "metadata": {},
   "outputs": [
    {
     "data": {
      "text/plain": [
       "Year                 0\n",
       "Month                0\n",
       "Day                  0\n",
       "Country              0\n",
       "Region               0\n",
       "State              421\n",
       "Attacktype           0\n",
       "target_type          0\n",
       "target               0\n",
       "Weapon_type          0\n",
       "No_of_Killed         0\n",
       "No_of_Wounded        0\n",
       "Group                0\n",
       "summary          66129\n",
       "dtype: int64"
      ]
     },
     "execution_count": 18,
     "metadata": {},
     "output_type": "execute_result"
    }
   ],
   "source": [
    "dataset_final['target'] = dataset_final['target'].fillna(\"Not Known\")\n",
    "dataset_final.isnull().sum()"
   ]
  },
  {
   "cell_type": "code",
   "execution_count": 19,
   "id": "7c6f96a5",
   "metadata": {},
   "outputs": [
    {
     "data": {
      "text/plain": [
       "Year               0\n",
       "Month              0\n",
       "Day                0\n",
       "Country            0\n",
       "Region             0\n",
       "State            421\n",
       "Attacktype         0\n",
       "target_type        0\n",
       "target             0\n",
       "Weapon_type        0\n",
       "No_of_Killed       0\n",
       "No_of_Wounded      0\n",
       "Group              0\n",
       "summary            0\n",
       "dtype: int64"
      ]
     },
     "execution_count": 19,
     "metadata": {},
     "output_type": "execute_result"
    }
   ],
   "source": [
    "dataset_final['summary'] = dataset_final['summary'].fillna(\"Not Known\")\n",
    "dataset_final.isnull().sum()"
   ]
  },
  {
   "cell_type": "code",
   "execution_count": 20,
   "id": "430af70a",
   "metadata": {},
   "outputs": [
    {
     "data": {
      "text/plain": [
       "(181691, 14)"
      ]
     },
     "execution_count": 20,
     "metadata": {},
     "output_type": "execute_result"
    }
   ],
   "source": [
    "dataset_final.shape"
   ]
  },
  {
   "cell_type": "code",
   "execution_count": 21,
   "id": "3ef2d58c",
   "metadata": {},
   "outputs": [
    {
     "data": {
      "text/plain": [
       "10146"
      ]
     },
     "execution_count": 21,
     "metadata": {},
     "output_type": "execute_result"
    }
   ],
   "source": [
    "dataset_final.duplicated().sum()"
   ]
  },
  {
   "cell_type": "markdown",
   "id": "1f12e3fb",
   "metadata": {},
   "source": [
    "There are 10146 duplicate values present so we have to drop them."
   ]
  },
  {
   "cell_type": "code",
   "execution_count": 22,
   "id": "f48dd32b",
   "metadata": {},
   "outputs": [],
   "source": [
    "dataset_final = dataset_final.drop_duplicates()"
   ]
  },
  {
   "cell_type": "code",
   "execution_count": 23,
   "id": "5d07f467",
   "metadata": {},
   "outputs": [
    {
     "data": {
      "text/plain": [
       "(171545, 14)"
      ]
     },
     "execution_count": 23,
     "metadata": {},
     "output_type": "execute_result"
    }
   ],
   "source": [
    "dataset_final.shape"
   ]
  },
  {
   "cell_type": "code",
   "execution_count": 25,
   "id": "fcfbb94c",
   "metadata": {},
   "outputs": [
    {
     "data": {
      "text/plain": [
       "Year                 47\n",
       "Month                13\n",
       "Day                  32\n",
       "Country             205\n",
       "Region               12\n",
       "State              2855\n",
       "Attacktype            9\n",
       "target_type          22\n",
       "target            86007\n",
       "Weapon_type          12\n",
       "No_of_Killed        205\n",
       "No_of_Wounded       238\n",
       "Group              3537\n",
       "summary          112493\n",
       "dtype: int64"
      ]
     },
     "execution_count": 25,
     "metadata": {},
     "output_type": "execute_result"
    }
   ],
   "source": [
    "#Checking number of unique values in columns\n",
    "dataset_final.nunique()"
   ]
  },
  {
   "cell_type": "code",
   "execution_count": 26,
   "id": "57f93578",
   "metadata": {},
   "outputs": [
    {
     "name": "stdout",
     "output_type": "stream",
     "text": [
      "Year : [1970 1971 1972 1973 1974 1975 1976 1977 1978 1979 1980 1981 1986 1982\n",
      " 1983 1984 1985 1987 1988 1989 1990 1991 1992 1994 1995 1996 1997 1998\n",
      " 1999 2000 2001 2002 2003 2004 2005 2006 2007 2008 2009 2010 2011 2012\n",
      " 2013 2014 2015 2016 2017]\n",
      "----------------------------------------------------------------------------------------------------\n",
      "Month : [ 7  0  1  2  3  4  5  6  8  9 10 11 12]\n",
      "----------------------------------------------------------------------------------------------------\n",
      "Day : [ 2  0  1  3  6  8  9 10 11 12 13 14 15 19 20 21 22 25 26 27 28 30 31  4\n",
      "  7 16 17 18 23 24  5 29]\n",
      "----------------------------------------------------------------------------------------------------\n",
      "Country : ['Dominican Republic' 'Mexico' 'Philippines' 'Greece' 'Japan'\n",
      " 'United States' 'Uruguay' 'Italy' 'East Germany (GDR)' 'Ethiopia'\n",
      " 'Guatemala' 'Venezuela' 'West Germany (FRG)' 'Switzerland' 'Jordan'\n",
      " 'Spain' 'Brazil' 'Egypt' 'Argentina' 'Lebanon' 'Ireland' 'Turkey'\n",
      " 'Paraguay' 'Iran' 'United Kingdom' 'Colombia' 'Bolivia' 'Nicaragua'\n",
      " 'Netherlands' 'Belgium' 'Canada' 'Australia' 'Pakistan' 'Zambia' 'Sweden'\n",
      " 'Costa Rica' 'South Yemen' 'Cambodia' 'Israel' 'Poland' 'Taiwan' 'Panama'\n",
      " 'Kuwait' 'West Bank and Gaza Strip' 'Austria' 'Czechoslovakia' 'India'\n",
      " 'France' 'South Vietnam' 'Brunei' 'Zaire'\n",
      " \"People's Republic of the Congo\" 'Portugal' 'Algeria' 'El Salvador'\n",
      " 'Thailand' 'Haiti' 'Sudan' 'Morocco' 'Cyprus' 'Myanmar' 'Afghanistan'\n",
      " 'Peru' 'Chile' 'Honduras' 'Yugoslavia' 'Ecuador' 'New Zealand' 'Malaysia'\n",
      " 'Singapore' 'Botswana' 'Jamaica' 'Chad' 'North Yemen' 'Andorra' 'Syria'\n",
      " 'South Korea' 'United Arab Emirates' 'South Africa' 'Kenya' 'Iraq'\n",
      " 'Somalia' 'Tanzania' 'Sri Lanka' 'Namibia' 'Bahamas' 'Nigeria' 'Barbados'\n",
      " 'Trinidad and Tobago' 'Bangladesh' 'Angola' 'Mauritania' 'Saudi Arabia'\n",
      " 'Djibouti' 'Indonesia' 'Malta' 'Rhodesia' 'Soviet Union' 'Denmark'\n",
      " 'Western Sahara' 'Guyana' 'Mozambique' 'Tunisia' 'Uganda' 'Norway'\n",
      " 'Lesotho' 'Gabon' 'Libya' 'Bahrain' 'Hong Kong' 'Senegal' 'Zimbabwe'\n",
      " 'Guinea' 'Grenada' 'New Hebrides' 'Belize' 'Guadeloupe' 'Martinique'\n",
      " 'Vatican City' 'Albania' 'Central African Republic' 'Seychelles'\n",
      " 'Dominica' 'Qatar' 'Bulgaria' 'Suriname' 'Swaziland' 'Luxembourg'\n",
      " 'Iceland' 'French Guiana' 'Falkland Islands' 'Burkina Faso'\n",
      " 'New Caledonia' 'Romania' 'Niger' 'Nepal' 'Togo' 'Finland' 'Fiji' 'Ghana'\n",
      " 'Maldives' 'Mauritius' 'Hungary' 'Laos' 'Papua New Guinea' 'China'\n",
      " 'Liberia' 'Republic of the Congo' 'Mali' 'Germany' 'Yemen' 'Rwanda'\n",
      " 'Sierra Leone' 'Cameroon' 'Cuba' 'Croatia' 'Georgia' 'Azerbaijan'\n",
      " 'Madagascar' 'Lithuania' 'Burundi' 'Ukraine' 'Moldova' 'Armenia' 'Russia'\n",
      " 'Ivory Coast' 'Kazakhstan' 'Antigua and Barbuda' 'Bosnia-Herzegovina'\n",
      " 'Equatorial Guinea' 'Tajikistan' 'Malawi' 'Uzbekistan' 'Latvia' 'Estonia'\n",
      " 'Vietnam' 'Comoros' 'Benin' 'Slovak Republic' 'Macedonia'\n",
      " 'Wallis and Futuna' 'Belarus' 'Czech Republic' 'Slovenia' 'Gambia'\n",
      " 'North Korea' 'Eritrea' 'St. Kitts and Nevis' 'French Polynesia' 'Macau'\n",
      " 'Kyrgyzstan' 'Vanuatu' 'Democratic Republic of the Congo' 'Kosovo'\n",
      " 'Solomon Islands' 'East Timor' 'St. Lucia' 'Guinea-Bissau' 'Montenegro'\n",
      " 'International' 'Turkmenistan' 'Serbia-Montenegro' 'Bhutan' 'Serbia'\n",
      " 'South Sudan']\n",
      "----------------------------------------------------------------------------------------------------\n",
      "Region : ['Central America & Caribbean' 'North America' 'Southeast Asia'\n",
      " 'Western Europe' 'East Asia' 'South America' 'Eastern Europe'\n",
      " 'Sub-Saharan Africa' 'Middle East & North Africa' 'Australasia & Oceania'\n",
      " 'South Asia' 'Central Asia']\n",
      "----------------------------------------------------------------------------------------------------\n",
      "State : [nan 'Federal' 'Tarlac' ... 'Carlow' 'Western Lakes' 'Vidzeme']\n",
      "----------------------------------------------------------------------------------------------------\n",
      "Attacktype : ['Assassination' 'Hostage Taking (Kidnapping)' 'Bombing/Explosion'\n",
      " 'Facility/Infrastructure Attack' 'Armed Assault' 'Hijacking' 'Unknown'\n",
      " 'Unarmed Assault' 'Hostage Taking (Barricade Incident)']\n",
      "----------------------------------------------------------------------------------------------------\n",
      "target_type : ['Private Citizens & Property' 'Government (Diplomatic)'\n",
      " 'Journalists & Media' 'Police' 'Utilities' 'Military'\n",
      " 'Government (General)' 'Airports & Aircraft' 'Business'\n",
      " 'Educational Institution' 'Violent Political Party'\n",
      " 'Religious Figures/Institutions' 'Unknown' 'Transportation' 'Tourists'\n",
      " 'NGO' 'Telecommunication' 'Food or Water Supply'\n",
      " 'Terrorists/Non-State Militia' 'Other' 'Maritime' 'Abortion Related']\n",
      "----------------------------------------------------------------------------------------------------\n",
      "target : ['Julio Guzman' 'Nadine Chaval, daughter' 'Employee' ...\n",
      " 'Personal Security Officer of Council Member Ihuing Pame: Prafulla Phukan'\n",
      " 'Jewelry Shop' 'Hmeymim Air Base']\n",
      "----------------------------------------------------------------------------------------------------\n",
      "Weapon_type : ['Unknown' 'Explosives' 'Incendiary' 'Firearms' 'Chemical' 'Melee'\n",
      " 'Sabotage Equipment'\n",
      " 'Vehicle (not to include vehicle-borne explosives, i.e., car or truck bombs)'\n",
      " 'Fake Weapons' 'Radiological' 'Other' 'Biological']\n",
      "----------------------------------------------------------------------------------------------------\n",
      "No_of_Killed : [1.000e+00 0.000e+00 7.000e+00 4.700e+01 2.000e+00 3.600e+01 5.000e+00\n",
      " 3.000e+00 4.000e+00 2.500e+01 1.500e+01 2.600e+01 8.000e+00 8.100e+01\n",
      " 6.000e+00 9.000e+00 1.600e+01 3.000e+01 3.100e+01 1.200e+01 2.100e+01\n",
      " 1.400e+01 8.800e+01 1.100e+01 1.000e+01 2.700e+01 1.800e+01 2.200e+01\n",
      " 1.900e+01 9.200e+01 1.300e+01 7.300e+01 1.000e+02 4.200e+01 4.300e+01\n",
      " 1.700e+01 9.800e+01 4.220e+02 4.800e+01 3.400e+01 5.400e+01 5.000e+01\n",
      " 3.500e+01 2.000e+01 4.100e+01 3.700e+01 2.800e+01 4.000e+01 3.200e+01\n",
      " 8.500e+01 2.300e+01 3.000e+02 6.000e+01 2.400e+01 5.800e+01 7.000e+01\n",
      " 8.700e+01 4.500e+01 3.800e+01 2.900e+01 7.400e+01 8.300e+01 9.000e+01\n",
      " 6.600e+01 8.000e+01 6.700e+01 5.100e+01 3.900e+01 1.140e+02 1.240e+02\n",
      " 7.600e+01 3.300e+01 7.500e+01 5.700e+01 6.200e+01 4.600e+01 5.600e+01\n",
      " 6.300e+01 1.200e+02 1.020e+02 7.800e+01 7.900e+01 5.200e+01 7.700e+01\n",
      " 2.000e+02 4.900e+01 1.110e+02 1.650e+02 4.400e+01 2.410e+02 6.400e+01\n",
      " 1.080e+02 6.500e+01 1.320e+02 2.700e+02 2.280e+02 1.100e+02 1.360e+02\n",
      " 1.800e+02 2.500e+02 9.300e+01 1.300e+02 5.900e+01 9.400e+01 5.300e+01\n",
      " 1.460e+02 3.290e+02 9.700e+01 7.100e+01 2.400e+02 2.270e+02 1.260e+02\n",
      " 1.060e+02 3.880e+02 6.800e+01 8.400e+01 8.200e+01 1.710e+02 1.070e+02\n",
      " 5.500e+01 1.120e+02 7.200e+01 9.600e+01 1.400e+02 6.100e+01 1.050e+02\n",
      " 1.500e+02 1.150e+02 8.900e+01 1.180e+03 1.700e+02 1.680e+02 1.210e+02\n",
      " 3.750e+02 9.100e+01 3.040e+02 1.230e+02 1.350e+02 2.560e+02 1.090e+02\n",
      " 2.710e+02 2.060e+02 1.040e+02 3.200e+02 2.750e+02 2.240e+02 1.180e+02\n",
      " 1.290e+02 9.500e+01 2.590e+02 1.384e+03 1.383e+03 1.900e+02 1.190e+02\n",
      " 1.010e+02 1.160e+02 5.180e+02 3.440e+02 1.600e+02 1.880e+02 1.030e+02\n",
      " 2.050e+02 1.450e+02 1.530e+02 1.270e+02 6.900e+01 1.410e+02 1.340e+02\n",
      " 4.000e+02 8.600e+01 1.840e+02 2.100e+02 1.420e+02 2.120e+02 2.870e+02\n",
      " 3.150e+02 1.510e+02 6.700e+02 1.570e+03 3.100e+02 2.980e+02 9.530e+02\n",
      " 5.170e+02 2.010e+02 1.220e+02 1.580e+02 1.170e+02 1.440e+02 2.080e+02\n",
      " 1.520e+02 2.300e+02 2.800e+02 1.740e+02 1.430e+02 3.830e+02 2.830e+02\n",
      " 1.540e+02 2.840e+02 4.330e+02 2.660e+02 1.330e+02 1.630e+02 1.280e+02\n",
      " 5.880e+02 3.110e+02]\n",
      "----------------------------------------------------------------------------------------------------\n",
      "No_of_Wounded : [0.000e+00 1.000e+00 2.000e+00 7.000e+00 9.000e+00 1.700e+01 5.000e+00\n",
      " 3.000e+00 1.000e+01 1.200e+01 2.000e+01 4.000e+00 1.100e+01 2.700e+01\n",
      " 1.300e+01 1.900e+01 1.300e+02 5.600e+01 2.400e+01 6.000e+00 7.200e+01\n",
      " 2.380e+02 5.500e+01 1.500e+01 8.000e+00 1.800e+01 5.000e+01 3.400e+01\n",
      " 1.400e+01 7.000e+01 1.020e+02 4.100e+01 4.800e+01 3.600e+01 2.500e+01\n",
      " 8.100e+01 5.400e+01 5.300e+01 1.000e+02 4.500e+01 3.300e+01 4.000e+01\n",
      " 6.200e+01 7.400e+01 2.200e+01 3.100e+01 1.600e+01 3.000e+01 2.850e+02\n",
      " 2.300e+01 4.200e+01 4.300e+01 7.600e+01 4.400e+01 5.200e+01 4.600e+01\n",
      " 4.900e+01 1.600e+02 3.700e+01 2.100e+01 6.000e+01 7.800e+01 2.600e+01\n",
      " 2.800e+01 3.900e+01 3.800e+01 3.500e+01 3.200e+01 8.000e+01 4.700e+01\n",
      " 1.880e+02 2.150e+02 8.500e+01 7.500e+01 1.610e+02 9.000e+01 3.000e+02\n",
      " 9.500e+01 1.350e+02 6.100e+01 1.380e+02 7.100e+01 7.000e+02 6.600e+01\n",
      " 1.360e+02 1.200e+02 2.170e+02 3.190e+02 1.330e+02 6.800e+01 7.300e+01\n",
      " 2.900e+01 7.510e+02 2.000e+02 1.120e+02 2.500e+02 8.200e+01 1.320e+02\n",
      " 2.300e+02 1.070e+02 1.140e+02 8.400e+01 1.400e+02 1.500e+02 9.600e+01\n",
      " 5.100e+01 5.800e+01 6.400e+01 2.950e+02 1.060e+02 1.250e+02 6.900e+01\n",
      " 5.900e+01 5.700e+01 1.220e+02 1.090e+02 8.800e+01 1.150e+02 1.760e+02\n",
      " 2.200e+02 9.700e+01 6.500e+01 8.000e+02 1.730e+02 9.200e+01 5.000e+02\n",
      " 2.360e+02 9.800e+01 2.860e+02 1.410e+02 5.500e+03 6.500e+02 6.710e+02\n",
      " 8.600e+01 1.040e+02 8.300e+01 1.010e+02 1.272e+03 1.050e+02 3.860e+02\n",
      " 3.910e+02 1.100e+02 1.490e+02 8.900e+01 9.100e+01 1.190e+02 7.700e+01\n",
      " 1.180e+02 6.700e+01 1.700e+02 1.940e+02 1.920e+02 2.270e+02 2.600e+02\n",
      " 4.000e+03 1.800e+02 1.840e+02 9.900e+01 9.400e+01 1.370e+02 8.190e+03\n",
      " 8.191e+03 1.710e+02 1.210e+02 1.030e+02 1.620e+02 1.970e+02 1.510e+02\n",
      " 2.240e+02 1.340e+02 2.330e+02 1.670e+02 4.500e+02 2.160e+02 1.450e+02\n",
      " 6.300e+01 7.270e+02 1.820e+02 1.590e+02 1.080e+02 1.280e+02 3.400e+02\n",
      " 1.630e+02 5.420e+02 8.700e+01 1.550e+02 8.170e+02 2.570e+02 1.480e+02\n",
      " 1.230e+02 2.460e+02 1.270e+02 3.470e+02 1.780e+02 1.680e+02 2.070e+02\n",
      " 1.830e+02 1.170e+02 7.500e+02 1.470e+02 1.001e+03 9.300e+01 1.540e+02\n",
      " 2.350e+02 1.580e+02 2.110e+02 1.160e+02 2.760e+02 5.520e+02 3.600e+02\n",
      " 1.130e+02 1.570e+02 1.750e+02 3.010e+02 1.310e+02 4.000e+02 3.700e+02\n",
      " 8.500e+00 1.690e+02 2.010e+02 1.110e+02 1.430e+02 1.530e+02 1.240e+02\n",
      " 7.900e+01 2.700e+02 1.520e+02 2.960e+02 2.450e+02 1.500e+03 3.510e+02\n",
      " 6.000e+02 4.330e+02 1.770e+02 4.910e+02 4.050e+02 8.510e+02 3.160e+02]\n",
      "----------------------------------------------------------------------------------------------------\n",
      "Group : ['MANO-D' '23rd of September Communist League' 'Unknown' ...\n",
      " 'Fatoni Warriors' 'Minorities of Metropolitan Attacks'\n",
      " 'Baloch Republican Party']\n",
      "----------------------------------------------------------------------------------------------------\n"
     ]
    },
    {
     "name": "stdout",
     "output_type": "stream",
     "text": [
      "summary : ['Not Known'\n",
      " '1/1/1970: Unknown African American assailants fired several bullets at police headquarters in Cairo, Illinois, United States.  There were no casualties, however, one bullet narrowly missed several police officers.  This attack took place during heightened racial tensions, including a Black boycott of White-owned businesses, in Cairo Illinois.'\n",
      " '1/2/1970: Unknown perpetrators detonated explosives at the Pacific Gas & Electric Company Edes substation in Oakland, California, United States.  Three transformers were damaged costing an estimated $20,000 to $25,000.  There were no casualties.'\n",
      " ...\n",
      " '12/31/2017: Assailants set fire to houses in Kubentog, Datu Hoffer, Maguindanao, Philippines. There were no reported casualties in the attack. No group claimed responsibility for the incident; however, sources attributed the attack to the Bangsamoro Islamic Freedom Movement (BIFM).'\n",
      " '12/31/2017: Assailants threw a grenade at a Forest Department office in Mantripukhri neighborhood, Imphal, Manipur, India. No casualties were reported in the blast. No group claimed responsibility for the incident.'\n",
      " '12/31/2017: An explosive device was discovered and defused at a plaza in Cotabato City, Maguindanao, Philippines. No group claimed responsibility for the incident.']\n",
      "----------------------------------------------------------------------------------------------------\n"
     ]
    }
   ],
   "source": [
    "#Unique Values of each Column -\n",
    "for col in dataset_final[:]:\n",
    "    print(col,\":\", dataset_final[col].unique())\n",
    "    print(\"-\"*100)"
   ]
  },
  {
   "cell_type": "code",
   "execution_count": 27,
   "id": "fe281d2e",
   "metadata": {},
   "outputs": [
    {
     "data": {
      "text/plain": [
       "5     15706\n",
       "7     15349\n",
       "8     14939\n",
       "10    14705\n",
       "6     14532\n",
       "3     14444\n",
       "4     14424\n",
       "11    14257\n",
       "1     14142\n",
       "9     13246\n",
       "2     13023\n",
       "12    12758\n",
       "0        20\n",
       "Name: Month, dtype: int64"
      ]
     },
     "execution_count": 27,
     "metadata": {},
     "output_type": "execute_result"
    }
   ],
   "source": [
    "dataset_final['Month'].value_counts()"
   ]
  },
  {
   "cell_type": "markdown",
   "id": "93f356fa",
   "metadata": {},
   "source": [
    "There are 13 unique values present in month column and there is a value 0 in the list so replace it with the most frequent occuring month"
   ]
  },
  {
   "cell_type": "code",
   "execution_count": 28,
   "id": "4c83e5c0",
   "metadata": {},
   "outputs": [
    {
     "data": {
      "text/plain": [
       "0    5\n",
       "dtype: int64"
      ]
     },
     "execution_count": 28,
     "metadata": {},
     "output_type": "execute_result"
    }
   ],
   "source": [
    "dataset_final[\"Month\"].mode()"
   ]
  },
  {
   "cell_type": "code",
   "execution_count": 29,
   "id": "19e23ac9",
   "metadata": {},
   "outputs": [],
   "source": [
    "dataset_final['Month'] = dataset_final['Month'].replace(0,dataset_final['Month'].mode()[0])"
   ]
  },
  {
   "cell_type": "code",
   "execution_count": 30,
   "id": "d0e234fb",
   "metadata": {},
   "outputs": [
    {
     "data": {
      "text/plain": [
       "5     15726\n",
       "7     15349\n",
       "8     14939\n",
       "10    14705\n",
       "6     14532\n",
       "3     14444\n",
       "4     14424\n",
       "11    14257\n",
       "1     14142\n",
       "9     13246\n",
       "2     13023\n",
       "12    12758\n",
       "Name: Month, dtype: int64"
      ]
     },
     "execution_count": 30,
     "metadata": {},
     "output_type": "execute_result"
    }
   ],
   "source": [
    "dataset_final['Month'].value_counts()"
   ]
  },
  {
   "cell_type": "markdown",
   "id": "ed8e1cce",
   "metadata": {},
   "source": [
    "### Data Visualization"
   ]
  },
  {
   "cell_type": "code",
   "execution_count": 31,
   "id": "3d087802",
   "metadata": {},
   "outputs": [
    {
     "data": {
      "text/plain": [
       "Iraq             23440\n",
       "Pakistan         13787\n",
       "Afghanistan      12486\n",
       "India            11557\n",
       "Colombia          7486\n",
       "                 ...  \n",
       "St. Lucia            1\n",
       "Andorra              1\n",
       "South Vietnam        1\n",
       "North Korea          1\n",
       "Vatican City         1\n",
       "Name: Country, Length: 205, dtype: int64"
      ]
     },
     "execution_count": 31,
     "metadata": {},
     "output_type": "execute_result"
    }
   ],
   "source": [
    "dataset_final[\"Country\"].value_counts()"
   ]
  },
  {
   "cell_type": "code",
   "execution_count": 33,
   "id": "63b03cd3",
   "metadata": {},
   "outputs": [
    {
     "data": {
      "text/plain": [
       "Falkland Islands       1\n",
       "Antigua and Barbuda    1\n",
       "Wallis and Futuna      1\n",
       "New Hebrides           1\n",
       "International          1\n",
       "St. Lucia              1\n",
       "Andorra                1\n",
       "South Vietnam          1\n",
       "North Korea            1\n",
       "Vatican City           1\n",
       "Name: Country, dtype: int64"
      ]
     },
     "execution_count": 33,
     "metadata": {},
     "output_type": "execute_result"
    }
   ],
   "source": [
    "#Least affected countries by terroism\n",
    "dataset_final[\"Country\"].value_counts()[-10:]"
   ]
  },
  {
   "cell_type": "code",
   "execution_count": 40,
   "id": "3e153f57",
   "metadata": {},
   "outputs": [
    {
     "data": {
      "image/png": "[encoded data removed]",
      "text/plain": [
       "<Figure size 1296x432 with 1 Axes>"
      ]
     },
     "metadata": {
      "needs_background": "light"
     },
     "output_type": "display_data"
    }
   ],
   "source": [
    "plt.figure(figsize=(18,6))\n",
    "sns.barplot(x = dataset_final[\"Country\"].value_counts()[-10:].index, y = dataset_final[\"Country\"].value_counts()[-10:].values,data = dataset_final)\n",
    "plt.title(\"Ten Countries least affected by Terrorism\")\n",
    "plt.xlabel(\"Countries\")\n",
    "plt.ylabel(\"Counts\")\n",
    "plt.xticks(rotation=90)\n",
    "plt.show()"
   ]
  },
  {
   "cell_type": "code",
   "execution_count": 42,
   "id": "bec609f7",
   "metadata": {},
   "outputs": [
    {
     "data": {
      "text/plain": [
       "Iraq              23440\n",
       "Pakistan          13787\n",
       "Afghanistan       12486\n",
       "India             11557\n",
       "Colombia           7486\n",
       "Philippines        6762\n",
       "Peru               5031\n",
       "United Kingdom     4962\n",
       "El Salvador        4176\n",
       "Somalia            4121\n",
       "Name: Country, dtype: int64"
      ]
     },
     "execution_count": 42,
     "metadata": {},
     "output_type": "execute_result"
    }
   ],
   "source": [
    "#Most affected by terroism\n",
    "dataset_final[\"Country\"].value_counts()[:10]"
   ]
  },
  {
   "cell_type": "code",
   "execution_count": 43,
   "id": "99b047a6",
   "metadata": {},
   "outputs": [
    {
     "data": {
      "image/png": "[encoded data removed]",
      "text/plain": [
       "<Figure size 1296x432 with 1 Axes>"
      ]
     },
     "metadata": {
      "needs_background": "light"
     },
     "output_type": "display_data"
    }
   ],
   "source": [
    "plt.figure(figsize=(18,6))\n",
    "sns.barplot(x = dataset_final[\"Country\"].value_counts()[:10].index, y = dataset_final[\"Country\"].value_counts()[:10].values, data = dataset_final)\n",
    "plt.title(\"Ten Countries Most affected by Terrorism\")\n",
    "plt.xlabel(\"Countries\")\n",
    "plt.ylabel(\"Counts\")\n",
    "plt.xticks(rotation=90)\n",
    "plt.show()"
   ]
  },
  {
   "cell_type": "markdown",
   "id": "97bce444",
   "metadata": {},
   "source": [
    "Iraq followed by pakistan is most affected country in case of Terrorism"
   ]
  },
  {
   "cell_type": "code",
   "execution_count": 44,
   "id": "17433704",
   "metadata": {},
   "outputs": [
    {
     "data": {
      "text/plain": [
       "Month\n",
       "1     15.956591\n",
       "2     14.937206\n",
       "3     15.751384\n",
       "4     14.984383\n",
       "5     16.383422\n",
       "6     14.747363\n",
       "7     15.323278\n",
       "8     15.271196\n",
       "9     16.252549\n",
       "10    16.383673\n",
       "11    15.859426\n",
       "12    15.778409\n",
       "Name: Day, dtype: float64"
      ]
     },
     "execution_count": 44,
     "metadata": {},
     "output_type": "execute_result"
    }
   ],
   "source": [
    "# Number of attacks every month in Iraq for the years i.e. 1970 - 2017\n",
    "Iraq_month = dataset_final.query(\"Country=='Iraq'\").groupby('Month').mean()\n",
    "Iraq_month['Day']"
   ]
  },
  {
   "cell_type": "code",
   "execution_count": 45,
   "id": "a5ef7dcf",
   "metadata": {},
   "outputs": [
    {
     "data": {
      "image/png": "[encoded data removed]",
      "text/plain": [
       "<Figure size 1296x432 with 1 Axes>"
      ]
     },
     "metadata": {
      "needs_background": "light"
     },
     "output_type": "display_data"
    }
   ],
   "source": [
    "plt.figure(figsize=(18,6))\n",
    "sns.barplot(x = ['Jan','Feb','March','April','May','June','July','Aug','Sep','Oct','Nov','Dec'], y = Iraq_month['Day'], data = Iraq_month)\n",
    "plt.title(\" Average Terror in Iraq every month for the Year Span : 1970-2017\")\n",
    "plt.xlabel(\"Months\")\n",
    "plt.ylabel(\"Counts\")\n",
    "plt.xticks(rotation=90)\n",
    "plt.show()"
   ]
  },
  {
   "cell_type": "markdown",
   "id": "6ddbaf26",
   "metadata": {},
   "source": [
    " Iraq has on an average about 15 attacks each month for the year span 1970-2017"
   ]
  },
  {
   "cell_type": "code",
   "execution_count": 46,
   "id": "3363a170",
   "metadata": {},
   "outputs": [],
   "source": [
    "Region = dataset_final.groupby('Region')['Year'].count().sort_values(ascending=False).reset_index(name='Count')"
   ]
  },
  {
   "cell_type": "code",
   "execution_count": 47,
   "id": "3338c343",
   "metadata": {},
   "outputs": [
    {
     "data": {
      "text/html": [
       "<div>\n",
       "<style scoped>\n",
       "    .dataframe tbody tr th:only-of-type {\n",
       "        vertical-align: middle;\n",
       "    }\n",
       "\n",
       "    .dataframe tbody tr th {\n",
       "        vertical-align: top;\n",
       "    }\n",
       "\n",
       "    .dataframe thead th {\n",
       "        text-align: right;\n",
       "    }\n",
       "</style>\n",
       "<table border=\"1\" class=\"dataframe\">\n",
       "  <thead>\n",
       "    <tr style=\"text-align: right;\">\n",
       "      <th></th>\n",
       "      <th>Region</th>\n",
       "      <th>Count</th>\n",
       "    </tr>\n",
       "  </thead>\n",
       "  <tbody>\n",
       "    <tr>\n",
       "      <th>0</th>\n",
       "      <td>Middle East &amp; North Africa</td>\n",
       "      <td>48660</td>\n",
       "    </tr>\n",
       "    <tr>\n",
       "      <th>1</th>\n",
       "      <td>South Asia</td>\n",
       "      <td>43461</td>\n",
       "    </tr>\n",
       "    <tr>\n",
       "      <th>2</th>\n",
       "      <td>Sub-Saharan Africa</td>\n",
       "      <td>17060</td>\n",
       "    </tr>\n",
       "    <tr>\n",
       "      <th>3</th>\n",
       "      <td>South America</td>\n",
       "      <td>16528</td>\n",
       "    </tr>\n",
       "    <tr>\n",
       "      <th>4</th>\n",
       "      <td>Western Europe</td>\n",
       "      <td>15031</td>\n",
       "    </tr>\n",
       "    <tr>\n",
       "      <th>5</th>\n",
       "      <td>Southeast Asia</td>\n",
       "      <td>12057</td>\n",
       "    </tr>\n",
       "    <tr>\n",
       "      <th>6</th>\n",
       "      <td>Central America &amp; Caribbean</td>\n",
       "      <td>8852</td>\n",
       "    </tr>\n",
       "    <tr>\n",
       "      <th>7</th>\n",
       "      <td>Eastern Europe</td>\n",
       "      <td>5007</td>\n",
       "    </tr>\n",
       "    <tr>\n",
       "      <th>8</th>\n",
       "      <td>North America</td>\n",
       "      <td>3349</td>\n",
       "    </tr>\n",
       "    <tr>\n",
       "      <th>9</th>\n",
       "      <td>East Asia</td>\n",
       "      <td>714</td>\n",
       "    </tr>\n",
       "    <tr>\n",
       "      <th>10</th>\n",
       "      <td>Central Asia</td>\n",
       "      <td>551</td>\n",
       "    </tr>\n",
       "    <tr>\n",
       "      <th>11</th>\n",
       "      <td>Australasia &amp; Oceania</td>\n",
       "      <td>275</td>\n",
       "    </tr>\n",
       "  </tbody>\n",
       "</table>\n",
       "</div>"
      ],
      "text/plain": [
       "                         Region  Count\n",
       "0    Middle East & North Africa  48660\n",
       "1                    South Asia  43461\n",
       "2            Sub-Saharan Africa  17060\n",
       "3                 South America  16528\n",
       "4                Western Europe  15031\n",
       "5                Southeast Asia  12057\n",
       "6   Central America & Caribbean   8852\n",
       "7                Eastern Europe   5007\n",
       "8                 North America   3349\n",
       "9                     East Asia    714\n",
       "10                 Central Asia    551\n",
       "11        Australasia & Oceania    275"
      ]
     },
     "execution_count": 47,
     "metadata": {},
     "output_type": "execute_result"
    }
   ],
   "source": [
    "Region"
   ]
  },
  {
   "cell_type": "code",
   "execution_count": 48,
   "id": "b29ca785",
   "metadata": {},
   "outputs": [
    {
     "data": {
      "image/png": "[encoded data removed]",
      "text/plain": [
       "<Figure size 1296x432 with 1 Axes>"
      ]
     },
     "metadata": {
      "needs_background": "light"
     },
     "output_type": "display_data"
    }
   ],
   "source": [
    "plt.figure(figsize=(18,6))\n",
    "sns.barplot(x = 'Region', y = 'Count', data = Region)\n",
    "plt.title(\"Terror in each Region through the years: 1970-2017\")\n",
    "plt.xlabel(\"Region\")\n",
    "plt.ylabel(\"Counts\")\n",
    "plt.xticks(rotation=90)\n",
    "plt.show()"
   ]
  },
  {
   "cell_type": "markdown",
   "id": "c315af80",
   "metadata": {},
   "source": [
    "Top 3 regions where terrorism occurs most are : Middle East , North Africa, South Asia.                                         \n",
    "Least 3 regions are Austrailia, Oceania, Central Asia."
   ]
  },
  {
   "cell_type": "code",
   "execution_count": 49,
   "id": "1b38e99a",
   "metadata": {},
   "outputs": [
    {
     "data": {
      "text/html": [
       "<div>\n",
       "<style scoped>\n",
       "    .dataframe tbody tr th:only-of-type {\n",
       "        vertical-align: middle;\n",
       "    }\n",
       "\n",
       "    .dataframe tbody tr th {\n",
       "        vertical-align: top;\n",
       "    }\n",
       "\n",
       "    .dataframe thead th {\n",
       "        text-align: right;\n",
       "    }\n",
       "</style>\n",
       "<table border=\"1\" class=\"dataframe\">\n",
       "  <thead>\n",
       "    <tr style=\"text-align: right;\">\n",
       "      <th></th>\n",
       "      <th>index</th>\n",
       "      <th>Count</th>\n",
       "    </tr>\n",
       "  </thead>\n",
       "  <tbody>\n",
       "    <tr>\n",
       "      <th>0</th>\n",
       "      <td>Bombing/Explosion</td>\n",
       "      <td>81858</td>\n",
       "    </tr>\n",
       "    <tr>\n",
       "      <th>1</th>\n",
       "      <td>Armed Assault</td>\n",
       "      <td>41129</td>\n",
       "    </tr>\n",
       "    <tr>\n",
       "      <th>2</th>\n",
       "      <td>Assassination</td>\n",
       "      <td>18872</td>\n",
       "    </tr>\n",
       "    <tr>\n",
       "      <th>3</th>\n",
       "      <td>Hostage Taking (Kidnapping)</td>\n",
       "      <td>10968</td>\n",
       "    </tr>\n",
       "    <tr>\n",
       "      <th>4</th>\n",
       "      <td>Facility/Infrastructure Attack</td>\n",
       "      <td>9283</td>\n",
       "    </tr>\n",
       "    <tr>\n",
       "      <th>5</th>\n",
       "      <td>Unknown</td>\n",
       "      <td>6911</td>\n",
       "    </tr>\n",
       "    <tr>\n",
       "      <th>6</th>\n",
       "      <td>Hostage Taking (Barricade Incident)</td>\n",
       "      <td>939</td>\n",
       "    </tr>\n",
       "    <tr>\n",
       "      <th>7</th>\n",
       "      <td>Unarmed Assault</td>\n",
       "      <td>932</td>\n",
       "    </tr>\n",
       "    <tr>\n",
       "      <th>8</th>\n",
       "      <td>Hijacking</td>\n",
       "      <td>653</td>\n",
       "    </tr>\n",
       "  </tbody>\n",
       "</table>\n",
       "</div>"
      ],
      "text/plain": [
       "                                 index  Count\n",
       "0                    Bombing/Explosion  81858\n",
       "1                        Armed Assault  41129\n",
       "2                        Assassination  18872\n",
       "3          Hostage Taking (Kidnapping)  10968\n",
       "4       Facility/Infrastructure Attack   9283\n",
       "5                              Unknown   6911\n",
       "6  Hostage Taking (Barricade Incident)    939\n",
       "7                      Unarmed Assault    932\n",
       "8                            Hijacking    653"
      ]
     },
     "execution_count": 49,
     "metadata": {},
     "output_type": "execute_result"
    }
   ],
   "source": [
    "# Analysing the Attack Types:\n",
    "Attacktype = dataset_final[\"Attacktype\"].value_counts().sort_values(ascending=False).reset_index(name='Count')\n",
    "Attacktype"
   ]
  },
  {
   "cell_type": "code",
   "execution_count": 50,
   "id": "809c863b",
   "metadata": {},
   "outputs": [
    {
     "data": {
      "image/png": "[encoded data removed]",
      "text/plain": [
       "<Figure size 1296x432 with 1 Axes>"
      ]
     },
     "metadata": {
      "needs_background": "light"
     },
     "output_type": "display_data"
    }
   ],
   "source": [
    "plt.figure(figsize=(18,6))\n",
    "sns.barplot(x = Attacktype['index'], y = Attacktype['Count'])\n",
    "plt.title(\"Attack Types\")\n",
    "plt.xlabel(\"Attack type\")\n",
    "plt.ylabel(\"Count\")\n",
    "plt.xticks(rotation=90)\n",
    "plt.show()"
   ]
  },
  {
   "cell_type": "code",
   "execution_count": 52,
   "id": "f3c2aa3f",
   "metadata": {},
   "outputs": [
    {
     "data": {
      "image/png": "[encoded data removed]",
      "text/plain": [
       "<Figure size 1296x432 with 1 Axes>"
      ]
     },
     "metadata": {
      "needs_background": "light"
     },
     "output_type": "display_data"
    }
   ],
   "source": [
    "# Analysing the number of attacks that took place every year\n",
    "years = dataset_final['Year'].unique()\n",
    "count_of_years = dataset_final['Year'].value_counts(dropna = False).sort_index()\n",
    "plt.figure(figsize = (18,6))\n",
    "sns.barplot(x = years,y = count_of_years)\n",
    "plt.xticks(rotation = 90)\n",
    "plt.xlabel('Year')\n",
    "plt.ylabel('Number of Attacks')\n",
    "plt.title('Years of attack')\n",
    "plt.show()"
   ]
  },
  {
   "cell_type": "markdown",
   "id": "8dc53bd1",
   "metadata": {},
   "source": [
    "There is a increase in number of attack starting from 2012 which reached its maximum peak in the year 2014\n",
    "After 2015 a it is decreasing"
   ]
  },
  {
   "cell_type": "code",
   "execution_count": 53,
   "id": "d97d9f7e",
   "metadata": {},
   "outputs": [
    {
     "data": {
      "image/png": "[encoded data removed]",
      "text/plain": [
       "<Figure size 1296x432 with 1 Axes>"
      ]
     },
     "metadata": {
      "needs_background": "light"
     },
     "output_type": "display_data"
    }
   ],
   "source": [
    "# Analysing the number of deaths taken place in each year.\n",
    "plt.figure(figsize=(18,6))\n",
    "dataset_final.groupby(['Year'])['No_of_Killed'].sum().plot(kind = 'bar')\n",
    "plt.title('Number of Deaths through the years')\n",
    "plt.xlabel('Years')\n",
    "plt.ylabel('Number of Deaths')\n",
    "plt.xticks(rotation=90)\n",
    "plt.show()"
   ]
  },
  {
   "cell_type": "markdown",
   "id": "fa63c05c",
   "metadata": {},
   "source": [
    "Number of people killed is maximum 0n 2014 which is 40000+"
   ]
  },
  {
   "cell_type": "code",
   "execution_count": 54,
   "id": "66889e0a",
   "metadata": {},
   "outputs": [],
   "source": [
    "#Analysis regarding target type affected by attack\n",
    "target = dataset_final[\"target_type\"].value_counts().sort_values(ascending=False).reset_index(name='Count')"
   ]
  },
  {
   "cell_type": "code",
   "execution_count": 55,
   "id": "89d048c0",
   "metadata": {},
   "outputs": [
    {
     "data": {
      "text/html": [
       "<div>\n",
       "<style scoped>\n",
       "    .dataframe tbody tr th:only-of-type {\n",
       "        vertical-align: middle;\n",
       "    }\n",
       "\n",
       "    .dataframe tbody tr th {\n",
       "        vertical-align: top;\n",
       "    }\n",
       "\n",
       "    .dataframe thead th {\n",
       "        text-align: right;\n",
       "    }\n",
       "</style>\n",
       "<table border=\"1\" class=\"dataframe\">\n",
       "  <thead>\n",
       "    <tr style=\"text-align: right;\">\n",
       "      <th></th>\n",
       "      <th>index</th>\n",
       "      <th>Count</th>\n",
       "    </tr>\n",
       "  </thead>\n",
       "  <tbody>\n",
       "    <tr>\n",
       "      <th>0</th>\n",
       "      <td>Private Citizens &amp; Property</td>\n",
       "      <td>41395</td>\n",
       "    </tr>\n",
       "    <tr>\n",
       "      <th>1</th>\n",
       "      <td>Military</td>\n",
       "      <td>27386</td>\n",
       "    </tr>\n",
       "    <tr>\n",
       "      <th>2</th>\n",
       "      <td>Police</td>\n",
       "      <td>23761</td>\n",
       "    </tr>\n",
       "    <tr>\n",
       "      <th>3</th>\n",
       "      <td>Government (General)</td>\n",
       "      <td>20454</td>\n",
       "    </tr>\n",
       "    <tr>\n",
       "      <th>4</th>\n",
       "      <td>Business</td>\n",
       "      <td>18827</td>\n",
       "    </tr>\n",
       "    <tr>\n",
       "      <th>5</th>\n",
       "      <td>Transportation</td>\n",
       "      <td>6089</td>\n",
       "    </tr>\n",
       "    <tr>\n",
       "      <th>6</th>\n",
       "      <td>Unknown</td>\n",
       "      <td>5203</td>\n",
       "    </tr>\n",
       "    <tr>\n",
       "      <th>7</th>\n",
       "      <td>Religious Figures/Institutions</td>\n",
       "      <td>4284</td>\n",
       "    </tr>\n",
       "    <tr>\n",
       "      <th>8</th>\n",
       "      <td>Educational Institution</td>\n",
       "      <td>4173</td>\n",
       "    </tr>\n",
       "    <tr>\n",
       "      <th>9</th>\n",
       "      <td>Utilities</td>\n",
       "      <td>4106</td>\n",
       "    </tr>\n",
       "    <tr>\n",
       "      <th>10</th>\n",
       "      <td>Government (Diplomatic)</td>\n",
       "      <td>3524</td>\n",
       "    </tr>\n",
       "    <tr>\n",
       "      <th>11</th>\n",
       "      <td>Terrorists/Non-State Militia</td>\n",
       "      <td>3004</td>\n",
       "    </tr>\n",
       "    <tr>\n",
       "      <th>12</th>\n",
       "      <td>Journalists &amp; Media</td>\n",
       "      <td>2886</td>\n",
       "    </tr>\n",
       "    <tr>\n",
       "      <th>13</th>\n",
       "      <td>Violent Political Party</td>\n",
       "      <td>1802</td>\n",
       "    </tr>\n",
       "    <tr>\n",
       "      <th>14</th>\n",
       "      <td>Airports &amp; Aircraft</td>\n",
       "      <td>1320</td>\n",
       "    </tr>\n",
       "    <tr>\n",
       "      <th>15</th>\n",
       "      <td>NGO</td>\n",
       "      <td>953</td>\n",
       "    </tr>\n",
       "    <tr>\n",
       "      <th>16</th>\n",
       "      <td>Telecommunication</td>\n",
       "      <td>920</td>\n",
       "    </tr>\n",
       "    <tr>\n",
       "      <th>17</th>\n",
       "      <td>Tourists</td>\n",
       "      <td>429</td>\n",
       "    </tr>\n",
       "    <tr>\n",
       "      <th>18</th>\n",
       "      <td>Maritime</td>\n",
       "      <td>340</td>\n",
       "    </tr>\n",
       "    <tr>\n",
       "      <th>19</th>\n",
       "      <td>Food or Water Supply</td>\n",
       "      <td>298</td>\n",
       "    </tr>\n",
       "    <tr>\n",
       "      <th>20</th>\n",
       "      <td>Abortion Related</td>\n",
       "      <td>257</td>\n",
       "    </tr>\n",
       "    <tr>\n",
       "      <th>21</th>\n",
       "      <td>Other</td>\n",
       "      <td>134</td>\n",
       "    </tr>\n",
       "  </tbody>\n",
       "</table>\n",
       "</div>"
      ],
      "text/plain": [
       "                             index  Count\n",
       "0      Private Citizens & Property  41395\n",
       "1                         Military  27386\n",
       "2                           Police  23761\n",
       "3             Government (General)  20454\n",
       "4                         Business  18827\n",
       "5                   Transportation   6089\n",
       "6                          Unknown   5203\n",
       "7   Religious Figures/Institutions   4284\n",
       "8          Educational Institution   4173\n",
       "9                        Utilities   4106\n",
       "10         Government (Diplomatic)   3524\n",
       "11    Terrorists/Non-State Militia   3004\n",
       "12             Journalists & Media   2886\n",
       "13         Violent Political Party   1802\n",
       "14             Airports & Aircraft   1320\n",
       "15                             NGO    953\n",
       "16               Telecommunication    920\n",
       "17                        Tourists    429\n",
       "18                        Maritime    340\n",
       "19            Food or Water Supply    298\n",
       "20                Abortion Related    257\n",
       "21                           Other    134"
      ]
     },
     "execution_count": 55,
     "metadata": {},
     "output_type": "execute_result"
    }
   ],
   "source": [
    "target"
   ]
  },
  {
   "cell_type": "code",
   "execution_count": 57,
   "id": "cedf6b80",
   "metadata": {},
   "outputs": [
    {
     "data": {
      "image/png": "[encoded data removed]",
      "text/plain": [
       "<Figure size 1296x432 with 1 Axes>"
      ]
     },
     "metadata": {
      "needs_background": "light"
     },
     "output_type": "display_data"
    }
   ],
   "source": [
    "plt.figure(figsize=(18,6))\n",
    "sns.barplot(x = target[\"index\"][:10], y = target[\"Count\"][:10])\n",
    "plt.title(\"Top Ten Target_type affected by Terrorism\")\n",
    "plt.xlabel(\"Target_type\",)\n",
    "plt.ylabel(\"Count\")\n",
    "plt.xticks(rotation=90)\n",
    "plt.show()"
   ]
  },
  {
   "cell_type": "markdown",
   "id": "96c6392c",
   "metadata": {},
   "source": [
    "Private Citizens and property, Military is mostly affected by TERROR ATTACKS."
   ]
  },
  {
   "cell_type": "code",
   "execution_count": 61,
   "id": "c5031a69",
   "metadata": {},
   "outputs": [
    {
     "data": {
      "image/png": "[encoded data removed]",
      "text/plain": [
       "<Figure size 1296x432 with 1 Axes>"
      ]
     },
     "metadata": {
      "needs_background": "light"
     },
     "output_type": "display_data"
    }
   ],
   "source": [
    "# States that were attacked the most\n",
    "plt.figure(figsize=(18,6))\n",
    "sns.barplot(x = dataset_final['State'].value_counts().head(10).index, y = dataset_final['State'].value_counts().head(10).values, palette=\"BuGn\")\n",
    "plt.title('Top 10 Attacked States')\n",
    "plt.xlabel('States')\n",
    "plt.ylabel('Number of Attacks')\n",
    "plt.xticks(rotation=90)\n",
    "plt.show()"
   ]
  },
  {
   "cell_type": "markdown",
   "id": "5c22ddc5",
   "metadata": {},
   "source": [
    "Bagdad is the most affected state in case of terrorism."
   ]
  },
  {
   "cell_type": "code",
   "execution_count": 62,
   "id": "d64caae5",
   "metadata": {},
   "outputs": [
    {
     "data": {
      "image/png": "[encoded data removed]",
      "text/plain": [
       "<Figure size 864x288 with 1 Axes>"
      ]
     },
     "metadata": {
      "needs_background": "light"
     },
     "output_type": "display_data"
    }
   ],
   "source": [
    "plt.figure(figsize=(12,4))\n",
    "sns.barplot(x = dataset_final[\"Weapon_type\"].value_counts()[:10].index, y = dataset_final[\"Weapon_type\"].value_counts()[:10].values,palette=\"BuGn\")\n",
    "plt.title(\"Percentage of top Weapons used\")\n",
    "plt.xlabel(\"Weapons\")\n",
    "plt.ylabel(\"Count\")\n",
    "plt.xticks(rotation=90)\n",
    "plt.show()"
   ]
  },
  {
   "cell_type": "code",
   "execution_count": 63,
   "id": "e0cb260e",
   "metadata": {},
   "outputs": [
    {
     "data": {
      "image/png": "[encoded data removed]",
      "text/plain": [
       "<Figure size 1296x432 with 1 Axes>"
      ]
     },
     "metadata": {
      "needs_background": "light"
     },
     "output_type": "display_data"
    }
   ],
   "source": [
    "#top ten terrorist organisation \n",
    "plt.figure(figsize=(18,6))\n",
    "sns.barplot(x = dataset_final['Group'].value_counts()[1:11].values, y = dataset_final['Group'].value_counts()[1:11].index)\n",
    "plt.title('Top 10 Terrorist Organizations')\n",
    "plt.xlabel('Number of Attacks')\n",
    "plt.ylabel('Groups of Terrorists')\n",
    "plt.show()"
   ]
  },
  {
   "cell_type": "code",
   "execution_count": 66,
   "id": "4eab5f2d",
   "metadata": {},
   "outputs": [
    {
     "data": {
      "image/png": "[encoded data removed]",
      "text/plain": [
       "<Figure size 1296x432 with 1 Axes>"
      ]
     },
     "metadata": {
      "needs_background": "light"
     },
     "output_type": "display_data"
    }
   ],
   "source": [
    "Taliban = dataset_final[dataset_final[\"Group\"]==\"Taliban\"]\n",
    "#Attacks over the years made by Taliban:\n",
    "\n",
    "plt.figure(figsize = (18,6))\n",
    "sns.barplot(x = Taliban['Year'].value_counts().index, y = Taliban['Year'].value_counts().values)\n",
    "plt.title('Terror Attack by Taliban in the years')\n",
    "plt.xlabel('Years')\n",
    "plt.ylabel('Number of Attacks')\n",
    "plt.show()"
   ]
  },
  {
   "cell_type": "markdown",
   "id": "8193880e",
   "metadata": {},
   "source": [
    "### Taliban is the most dangerous terrorist group followed by ISIL"
   ]
  },
  {
   "cell_type": "markdown",
   "id": "bde8d59b",
   "metadata": {},
   "source": [
    "We can conclude that :\n",
    "Iraq followed by pakistan is most affected country in case of Terrorism.\n",
    "Iraq has on an average about 15 attacks each month.\n",
    "Bombing/Explosion is most frequent attack type followed by Armed Assault.\n",
    "Maximum no. of deaths has been in the Middle East & North Africa region, followed by South Asia.\n",
    "Private Citizens and property is mostly affected by terror attacks followed by Military.\n",
    "Bagdad is the most affected state in case of terrorism.\n",
    "Taliban is the most dangerous terrorist group followed by ISIL."
   ]
  }
 ],
 "metadata": {
  "kernelspec": {
   "display_name": "Python 3",
   "language": "python",
   "name": "python3"
  },
  "language_info": {
   "codemirror_mode": {
    "name": "ipython",
    "version": 3
   },
   "file_extension": ".py",
   "mimetype": "text/x-python",
   "name": "python",
   "nbconvert_exporter": "python",
   "pygments_lexer": "ipython3",
   "version": "3.8.8"
  }
 },
 "nbformat": 4,
 "nbformat_minor": 5
}
